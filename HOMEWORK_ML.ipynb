{
 "cells": [
  {
   "cell_type": "code",
   "execution_count": 1,
   "id": "initial_id",
   "metadata": {
    "collapsed": true,
    "ExecuteTime": {
     "end_time": "2023-12-05T21:19:39.538082600Z",
     "start_time": "2023-12-05T21:19:38.900439200Z"
    }
   },
   "outputs": [],
   "source": [
    "import pandas as pd\n",
    "import numpy as np"
   ]
  },
  {
   "cell_type": "code",
   "execution_count": 2,
   "outputs": [],
   "source": [
    "df = pd.read_csv('dataset_tp1.csv')"
   ],
   "metadata": {
    "collapsed": false,
    "ExecuteTime": {
     "end_time": "2023-12-05T21:19:42.977376700Z",
     "start_time": "2023-12-05T21:19:42.868540Z"
    }
   },
   "id": "8159132dfd0c4417"
  },
  {
   "cell_type": "code",
   "execution_count": 3,
   "outputs": [
    {
     "data": {
      "text/plain": "   Unnamed: 0 label                                               text  \\\n0         605   ham  Subject: enron methanol ; meter # : 988291\\r\\n...   \n1        2349   ham  Subject: hpl nom for january 9 , 2001\\r\\n( see...   \n2        3624   ham  Subject: neon retreat\\r\\nho ho ho , we ' re ar...   \n3        4685  spam  Subject: photoshop , windows , office . cheap ...   \n4        2030   ham  Subject: re : indian springs\\r\\nthis deal is t...   \n\n   label_num  \n0          0  \n1          0  \n2          0  \n3          1  \n4          0  ",
      "text/html": "<div>\n<style scoped>\n    .dataframe tbody tr th:only-of-type {\n        vertical-align: middle;\n    }\n\n    .dataframe tbody tr th {\n        vertical-align: top;\n    }\n\n    .dataframe thead th {\n        text-align: right;\n    }\n</style>\n<table border=\"1\" class=\"dataframe\">\n  <thead>\n    <tr style=\"text-align: right;\">\n      <th></th>\n      <th>Unnamed: 0</th>\n      <th>label</th>\n      <th>text</th>\n      <th>label_num</th>\n    </tr>\n  </thead>\n  <tbody>\n    <tr>\n      <th>0</th>\n      <td>605</td>\n      <td>ham</td>\n      <td>Subject: enron methanol ; meter # : 988291\\r\\n...</td>\n      <td>0</td>\n    </tr>\n    <tr>\n      <th>1</th>\n      <td>2349</td>\n      <td>ham</td>\n      <td>Subject: hpl nom for january 9 , 2001\\r\\n( see...</td>\n      <td>0</td>\n    </tr>\n    <tr>\n      <th>2</th>\n      <td>3624</td>\n      <td>ham</td>\n      <td>Subject: neon retreat\\r\\nho ho ho , we ' re ar...</td>\n      <td>0</td>\n    </tr>\n    <tr>\n      <th>3</th>\n      <td>4685</td>\n      <td>spam</td>\n      <td>Subject: photoshop , windows , office . cheap ...</td>\n      <td>1</td>\n    </tr>\n    <tr>\n      <th>4</th>\n      <td>2030</td>\n      <td>ham</td>\n      <td>Subject: re : indian springs\\r\\nthis deal is t...</td>\n      <td>0</td>\n    </tr>\n  </tbody>\n</table>\n</div>"
     },
     "execution_count": 3,
     "metadata": {},
     "output_type": "execute_result"
    }
   ],
   "source": [
    "df.head()"
   ],
   "metadata": {
    "collapsed": false
   },
   "id": "7248a0914470fa97"
  },
  {
   "cell_type": "code",
   "execution_count": 4,
   "outputs": [
    {
     "data": {
      "text/plain": "(5171, 4)"
     },
     "execution_count": 4,
     "metadata": {},
     "output_type": "execute_result"
    }
   ],
   "source": [
    "df.shape"
   ],
   "metadata": {
    "collapsed": false
   },
   "id": "b66b074447e4accb"
  },
  {
   "cell_type": "code",
   "execution_count": 5,
   "outputs": [
    {
     "data": {
      "text/plain": "(5171, 4)"
     },
     "execution_count": 5,
     "metadata": {},
     "output_type": "execute_result"
    }
   ],
   "source": [
    "df.drop_duplicates()\n",
    "df.dropna()\n",
    "df.shape"
   ],
   "metadata": {
    "collapsed": false
   },
   "id": "32ef69212a6e1abf"
  },
  {
   "cell_type": "code",
   "execution_count": 6,
   "outputs": [],
   "source": [
    "X = df['text']\n",
    "Y = df['label_num']"
   ],
   "metadata": {
    "collapsed": false,
    "ExecuteTime": {
     "end_time": "2023-12-05T21:19:45.233868Z",
     "start_time": "2023-12-05T21:19:45.216890500Z"
    }
   },
   "id": "a3cf928eabefa253"
  },
  {
   "cell_type": "code",
   "execution_count": 21,
   "outputs": [
    {
     "name": "stdout",
     "output_type": "stream",
     "text": [
      "['ce' 'ceci' 'deuxième' 'document' 'est' 'et' 'le' 'premier' 'troisième']\n"
     ]
    }
   ],
   "source": [
    "from sklearn.feature_extraction.text import CountVectorizer\n",
    "Example = [\n",
    "    'Ceci est le premier document.',\n",
    "    'Ce document est le deuxième document.',\n",
    "    'Et ceci est le troisième.',\n",
    "    'Est-ce le premier document ?',\n",
    "]\n",
    "\n",
    "vector1 = CountVectorizer(ngram_range=(1, 1))\n",
    "X_temp = vector1.fit_transform(Example)\n",
    "bow = vector1.get_feature_names_out()\n",
    "print(bow)"
   ],
   "metadata": {
    "collapsed": false,
    "ExecuteTime": {
     "end_time": "2023-12-05T21:50:25.801259300Z",
     "start_time": "2023-12-05T21:50:25.773833900Z"
    }
   },
   "id": "d6411c0345718c93"
  },
  {
   "cell_type": "code",
   "execution_count": 10,
   "outputs": [
    {
     "name": "stdout",
     "output_type": "stream",
     "text": [
      "['ce' 'ce document' 'ce le' 'ceci' 'ceci est' 'deuxième'\n",
      " 'deuxième document' 'document' 'document est' 'est' 'est ce' 'est le'\n",
      " 'et' 'et ceci' 'le' 'le deuxième' 'le premier' 'le troisième' 'premier'\n",
      " 'premier document' 'troisième']\n"
     ]
    }
   ],
   "source": [
    "from sklearn.feature_extraction.text import CountVectorizer\n",
    "\n",
    "\n",
    "vector1 = CountVectorizer(ngram_range=(1, 2))\n",
    "X1 = vector1.fit_transform(Example)\n",
    "bow = vector1.get_feature_names_out()\n",
    "print(bow)\n"
   ],
   "metadata": {
    "collapsed": false,
    "ExecuteTime": {
     "end_time": "2023-12-05T21:24:25.911550700Z",
     "start_time": "2023-12-05T21:24:25.891437300Z"
    }
   },
   "id": "455e407d5eb7b9c0"
  },
  {
   "cell_type": "code",
   "execution_count": 11,
   "outputs": [
    {
     "name": "stdout",
     "output_type": "stream",
     "text": [
      "['ce' 'ce document' 'ce document est' 'ce le' 'ce le premier' 'ceci'\n",
      " 'ceci est' 'ceci est le' 'deuxième' 'deuxième document' 'document'\n",
      " 'document est' 'document est le' 'est' 'est ce' 'est ce le' 'est le'\n",
      " 'est le deuxième' 'est le premier' 'est le troisième' 'et' 'et ceci'\n",
      " 'et ceci est' 'le' 'le deuxième' 'le deuxième document' 'le premier'\n",
      " 'le premier document' 'le troisième' 'premier' 'premier document'\n",
      " 'troisième']\n"
     ]
    }
   ],
   "source": [
    "\n",
    "vector2 = CountVectorizer(ngram_range=(1, 3))\n",
    "X2 = vector2.fit_transform(Example)\n",
    "bow2 = vector2.get_feature_names_out()\n",
    "print(bow2)"
   ],
   "metadata": {
    "collapsed": false,
    "ExecuteTime": {
     "end_time": "2023-12-05T21:25:50.130070900Z",
     "start_time": "2023-12-05T21:25:50.119100300Z"
    }
   },
   "id": "22e7247357bfb9c8"
  },
  {
   "cell_type": "code",
   "execution_count": 12,
   "outputs": [
    {
     "name": "stdout",
     "output_type": "stream",
     "text": [
      "[' ' '-' '.' '?' 'c' 'd' 'e' 'i' 'l' 'm' 'n' 'o' 'p' 'r' 's' 't' 'u' 'x'\n",
      " 'è']\n"
     ]
    }
   ],
   "source": [
    "vector3 = CountVectorizer(analyzer='char')\n",
    "X3 = vector3.fit_transform(Example)\n",
    "bow3 = vector3.get_feature_names_out()\n",
    "print(bow3)"
   ],
   "metadata": {
    "collapsed": false,
    "ExecuteTime": {
     "end_time": "2023-12-05T21:29:38.403572600Z",
     "start_time": "2023-12-05T21:29:38.367321300Z"
    }
   },
   "id": "25afa0f9c82fcf72"
  },
  {
   "cell_type": "code",
   "execution_count": 14,
   "outputs": [
    {
     "name": "stdout",
     "output_type": "stream",
     "text": [
      "[' ' '-' '.' '?' 'c' 'd' 'e' 'i' 'l' 'm' 'n' 'o' 'p' 'r' 's' 't' 'u' 'x'\n",
      " 'è']\n"
     ]
    }
   ],
   "source": [
    "vector4 = CountVectorizer(analyzer='char_wb')\n",
    "X4 = vector4.fit_transform(Example)\n",
    "bow4 = vector4.get_feature_names_out()\n",
    "print(bow4)"
   ],
   "metadata": {
    "collapsed": false,
    "ExecuteTime": {
     "end_time": "2023-12-05T21:30:15.296353200Z",
     "start_time": "2023-12-05T21:30:15.265965600Z"
    }
   },
   "id": "d202b902c3d2903b"
  },
  {
   "cell_type": "code",
   "execution_count": 42,
   "outputs": [],
   "source": [
    "from sklearn.feature_extraction.text import TfidfVectorizer\n",
    "vector = TfidfVectorizer()\n",
    "X_encoded = vector.fit_transform(X)"
   ],
   "metadata": {
    "collapsed": false,
    "ExecuteTime": {
     "end_time": "2023-12-05T23:15:28.649164500Z",
     "start_time": "2023-12-05T23:15:27.888924700Z"
    }
   },
   "id": "24615fd6d03e2427"
  },
  {
   "cell_type": "code",
   "execution_count": 43,
   "outputs": [],
   "source": [
    "from sklearn.ensemble import RandomForestClassifier\n",
    "from sklearn.naive_bayes import MultinomialNB\n",
    "from sklearn.model_selection import GridSearchCV, ShuffleSplit\n",
    "from sklearn.neighbors import KNeighborsClassifier\n",
    "\n",
    "from sklearn import svm\n",
    "\n",
    "def find_best_params(x,y):\n",
    "    models={\n",
    "        'SVM':{\n",
    "            'model':svm.SVC(),\n",
    "            'params':{\n",
    "                'C':[1,10,20],\n",
    "                'kernel': ['linear', 'rbf'],\n",
    "            }\n",
    "        },\n",
    "        'Multinomial_NB':{\n",
    "            'model':MultinomialNB(),\n",
    "            'params':{\n",
    "                'alpha':[1.0, 2.0, 5.0]\n",
    "            }\n",
    "        },\n",
    "\n",
    "\n",
    "        'Random_Forest': {\n",
    "            'model': RandomForestClassifier(),\n",
    "            'params': {\n",
    "                'n_estimators': [10, 20,50],\n",
    "                'max_depth': [None, 10],\n",
    "\n",
    "            }\n",
    "        } ,\n",
    "\n",
    "        'KNN': {\n",
    "            'model': KNeighborsClassifier(),\n",
    "            'params': {\n",
    "                'n_neighbors': [3, 5, 7],\n",
    "                \n",
    "            }\n",
    "        },\n",
    "    }\n",
    "\n",
    "    scores = []\n",
    "   \n",
    "\n",
    "    cv = ShuffleSplit(n_splits=5 , test_size=0.3 , random_state=42)\n",
    "    for algo , params in models.items():\n",
    "        grid_cv = GridSearchCV(params['model'],params['params'] , cv=cv , return_train_score=False )\n",
    "        grid_cv.fit(x,y)\n",
    "        scores.append({\n",
    "            'model_name': algo,\n",
    "            'best_score': grid_cv.best_score_,\n",
    "            'best_params': grid_cv.best_params_\n",
    "\n",
    "        })\n",
    "\n",
    "\n",
    "    scores_df = pd.DataFrame(scores,columns=['model_name','best_score','best_params'])\n",
    "    return scores_df    "
   ],
   "metadata": {
    "collapsed": false,
    "ExecuteTime": {
     "end_time": "2023-12-05T23:15:28.664Z",
     "start_time": "2023-12-05T23:15:28.656145200Z"
    }
   },
   "id": "8aa499de165b6ca5"
  },
  {
   "cell_type": "code",
   "execution_count": 44,
   "outputs": [
    {
     "data": {
      "text/plain": "       model_name  best_score                              best_params\n0             SVM    0.987246               {'C': 10, 'kernel': 'rbf'}\n1  Multinomial_NB    0.879227                           {'alpha': 1.0}\n2   Random_Forest    0.973913  {'max_depth': None, 'n_estimators': 50}\n3             KNN    0.961739                       {'n_neighbors': 3}",
      "text/html": "<div>\n<style scoped>\n    .dataframe tbody tr th:only-of-type {\n        vertical-align: middle;\n    }\n\n    .dataframe tbody tr th {\n        vertical-align: top;\n    }\n\n    .dataframe thead th {\n        text-align: right;\n    }\n</style>\n<table border=\"1\" class=\"dataframe\">\n  <thead>\n    <tr style=\"text-align: right;\">\n      <th></th>\n      <th>model_name</th>\n      <th>best_score</th>\n      <th>best_params</th>\n    </tr>\n  </thead>\n  <tbody>\n    <tr>\n      <th>0</th>\n      <td>SVM</td>\n      <td>0.987246</td>\n      <td>{'C': 10, 'kernel': 'rbf'}</td>\n    </tr>\n    <tr>\n      <th>1</th>\n      <td>Multinomial_NB</td>\n      <td>0.879227</td>\n      <td>{'alpha': 1.0}</td>\n    </tr>\n    <tr>\n      <th>2</th>\n      <td>Random_Forest</td>\n      <td>0.973913</td>\n      <td>{'max_depth': None, 'n_estimators': 50}</td>\n    </tr>\n    <tr>\n      <th>3</th>\n      <td>KNN</td>\n      <td>0.961739</td>\n      <td>{'n_neighbors': 3}</td>\n    </tr>\n  </tbody>\n</table>\n</div>"
     },
     "execution_count": 44,
     "metadata": {},
     "output_type": "execute_result"
    }
   ],
   "source": [
    "find_best_params(X_encoded  , Y)"
   ],
   "metadata": {
    "collapsed": false,
    "ExecuteTime": {
     "end_time": "2023-12-05T23:22:08.870854900Z",
     "start_time": "2023-12-05T23:15:31.838992100Z"
    }
   },
   "id": "e07dbef758f7fc2b"
  },
  {
   "cell_type": "code",
   "execution_count": 41,
   "outputs": [
    {
     "name": "stdout",
     "output_type": "stream",
     "text": [
      "              precision    recall  f1-score   support\n",
      "\n",
      "           0       0.99      0.99      0.99       930\n",
      "           1       0.97      0.98      0.98       363\n",
      "\n",
      "    accuracy                           0.99      1293\n",
      "   macro avg       0.98      0.99      0.98      1293\n",
      "weighted avg       0.99      0.99      0.99      1293\n"
     ]
    }
   ],
   "source": [
    "from sklearn.model_selection import train_test_split\n",
    "from sklearn.metrics import classification_report\n",
    "X_train, X_test, Y_train, Y_test = train_test_split(X_encoded, Y, test_size=0.25, random_state=42)\n",
    "best_model = svm.SVC(kernel='linear',C=10)\n",
    "best_model.fit(X_train,Y_train)\n",
    "Y_pred = best_model.predict(X_test)\n",
    "report = classification_report(Y_test, Y_pred)\n",
    "print(report)\n"
   ],
   "metadata": {
    "collapsed": false,
    "ExecuteTime": {
     "end_time": "2023-12-05T23:07:14.652160Z",
     "start_time": "2023-12-05T23:07:10.142482500Z"
    }
   },
   "id": "4b8089bbf65f0723"
  },
  {
   "cell_type": "code",
   "execution_count": null,
   "outputs": [],
   "source": [],
   "metadata": {
    "collapsed": false
   },
   "id": "185e78f3aafd9edc"
  }
 ],
 "metadata": {
  "kernelspec": {
   "display_name": "Python 3",
   "language": "python",
   "name": "python3"
  },
  "language_info": {
   "codemirror_mode": {
    "name": "ipython",
    "version": 2
   },
   "file_extension": ".py",
   "mimetype": "text/x-python",
   "name": "python",
   "nbconvert_exporter": "python",
   "pygments_lexer": "ipython2",
   "version": "2.7.6"
  }
 },
 "nbformat": 4,
 "nbformat_minor": 5
}
